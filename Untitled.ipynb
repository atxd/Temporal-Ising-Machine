{
 "cells": [
  {
   "cell_type": "code",
   "execution_count": 247,
   "id": "6ef83400",
   "metadata": {},
   "outputs": [],
   "source": [
    "import numpy as np\n",
    "import matplotlib.pyplot as plt\n",
    "import time\n",
    "from sklearn.base import clone\n",
    "from skopt import gp_minimize\n",
    "from skopt.learning import GaussianProcessRegressor\n",
    "from skopt.learning.gaussian_process.kernels import ConstantKernel, Matern\n",
    "import glob\n",
    "import pprint\n",
    "import scipy as sp\n",
    "import warnings\n",
    "warnings.filterwarnings(\"ignore\")"
   ]
  },
  {
   "cell_type": "code",
   "execution_count": 349,
   "id": "acddc99f",
   "metadata": {},
   "outputs": [],
   "source": [
    "def coupling_matrix(N, weights, val=False):\n",
    "    if val==True:\n",
    "        return J1\n",
    "    J = np.zeros((N, N))\n",
    "    k = 0\n",
    "    for i in range(N-1):\n",
    "        for j in range(N-1, i, -1):\n",
    "            J[i,j] = weights[k]\n",
    "            k = k + 1\n",
    "    J = J + np.transpose(J)\n",
    "    \n",
    "    # ensuring that J is symmetric\n",
    "    \n",
    "    return J\n",
    "\n",
    "def voltage(alpha, beta, N, Tmax, plot=0):  \n",
    "    x = np.zeros((N, Tmax))   #the value of the voltages\n",
    "    f = np.zeros((N, Tmax))   #the function f\n",
    "    g = np.random.normal(0, 0.01, size=(N, Tmax)) #gaussian noise\n",
    "    J = coupling_matrix(N, weights)\n",
    "\n",
    "    for k in range(Tmax-1):\n",
    "        for n in range(N):\n",
    "            sum1 = 0\n",
    "            if beta != 0:\n",
    "                for j in range(N):\n",
    "                    sum1 += J[j, n]*x[j, k]\n",
    "            f[n, k] = alpha*x[n, k] + beta*sum1                              #equation 3.2 in the paper with beta=0\n",
    "            x[n, k+1] = (np.cos(f[n, k] + g[n, k] - np.pi/4))**2 - 0.5       #equation 3.1 in the paper\n",
    "        if plot==1:\n",
    "            spins = np.sign(x[:, k+1])\n",
    "            plt.imshow(spins.reshape(10,10))\n",
    "            plt.show()\n",
    "    return x\n",
    "\n",
    "def energy(Tmax, N, alpha, beta, array=0):\n",
    "    x = voltage(alpha, beta, N, Tmax)\n",
    "    E = np.zeros(Tmax)\n",
    "    for k in range(Tmax):\n",
    "        for i in range(N):\n",
    "            for j in range(i, N):\n",
    "                E[k] += J[i, j]*np.sign(x[i, k])*np.sign(x[j, k])\n",
    "    if array == 0:\n",
    "        return -E[-1]\n",
    "    if array == 1:\n",
    "        return -E\n",
    "\n",
    "def spins(alpha, beta, N, Tmax):\n",
    "    x = voltage(alpha, beta, N, Tmax)\n",
    "    spins = np.sign(x[:, -1])\n",
    "    return spins\n",
    "\n",
    "def plot_approximation(gpr, X, X_sample, Y_sample, X_next=None, show_legend=False):\n",
    "    mu, std = gpr.predict(X, return_std=True)\n",
    "    plt.fill_between(X.ravel(), \n",
    "                     mu.ravel() + 1.96 * std, \n",
    "                     mu.ravel() - 1.96 * std, \n",
    "                     alpha=0.1) \n",
    "    plt.plot(X, mu, 'b-', lw=1, label='Surrogate function')\n",
    "    plt.plot(X_sample, Y_sample, 'kx', mew=3, label='samples')\n",
    "    if X_next:\n",
    "        plt.axvline(x=X_next, ls='--', c='k', lw=1)\n",
    "    if show_legend:\n",
    "        plt.legend()\n",
    "        \n",
    "def assign_weights(filename, density=50):\n",
    "    global weights\n",
    "    weights = []\n",
    "\n",
    "    with open(filename, 'r') as file:\n",
    "        for line in file:\n",
    "            words = line.split()\n",
    "            if len(words) == 3:\n",
    "                weight = int(words[2])\n",
    "                weights.append(weight)\n",
    "\n",
    "    file.close()\n",
    "\n",
    "    if density != 50:\n",
    "        for i in range(len(weights)):\n",
    "            if np.random.randint(0,100) >= density:\n",
    "                weights[i] = 0\n",
    "            else:\n",
    "                weights[i] = -abs(weights[i])\n",
    "\n",
    "    for i in range(len(weights)):\n",
    "        if weights[i] == 1:\n",
    "            weights[i] = 0\n",
    "\n",
    "    print(\"density is \", abs(100*sum(weights)/len(weights)))\n",
    "\n",
    "    Tmax = 90\n",
    "    E_init = np.zeros(2).reshape(-1, 1)\n",
    "    Z = np.arange(0,3.1,0.1) # alpha values\n",
    "    noise = 0.1\n",
    "\n",
    "    p = [0.5, -0.5, -len(weights)]\n",
    "    roots = np.roots(p)\n",
    "\n",
    "    N = int(np.round(roots[roots>0][0]))\n",
    "    \n",
    "    return weights, N, Z, E_init, Tmax, noise"
   ]
  },
  {
   "cell_type": "code",
   "execution_count": 350,
   "id": "d60e3ad5",
   "metadata": {},
   "outputs": [],
   "source": [
    "def bay_opt(Z, alpha, optimal_energy, N, Tmax, E_init, noise, beta_max, delta=0.2, num=10, plot_graph=1):\n",
    "    start = time.time()\n",
    "    for z_index in range(alpha, alpha+1):\n",
    "        beta_min = N*(1-Z[z_index])/(abs(sum(sum(J1)/2)))\n",
    "        \n",
    "        beta_max = num*beta_min\n",
    "        #beta_max = (np.pi/(2*delta) - 0.9)/(abs(max(sum(coupling_matrix(N, weights)))))\n",
    "        \n",
    "        bounds = np.array([[beta_min, beta_max]])\n",
    "        #bounds = np.array([[1e-10, 1]])\n",
    "        \n",
    "        #X_init = np.array([[0.1], [0.9]])\n",
    "        X_init = np.array([[beta_min], [beta_max]])\n",
    "        E_init[0] = energy(Tmax, N, Z[z_index], X_init[0])\n",
    "        E_init[1] = energy(Tmax, N, Z[z_index], X_init[1])\n",
    "        \n",
    "        #n_calls = int((9*N*(1-Z[z_index])/(abs(sum(weights))))/0.003) - 2\n",
    "        n_calls = 4\n",
    "        \n",
    "        n52 = ConstantKernel(1.0) * Matern(length_scale=0.1, length_scale_bounds=(1e-150, 10), nu=2.5)\n",
    "        gpr = GaussianProcessRegressor(kernel=n52, alpha=noise**2)\n",
    "\n",
    "        r = gp_minimize(lambda x: energy(Tmax, N, Z[z_index], np.array(x)), \n",
    "                        bounds.tolist(),\n",
    "                        base_estimator=gpr,\n",
    "                        acq_func='EI',      # expected improvement\n",
    "                        xi=0.1,            # exploitation-exploration trade-off\n",
    "                        n_calls=n_calls,         # number of iterations\n",
    "                        n_random_starts=0,  # initial samples are provided\n",
    "                        x0=X_init.tolist(), # initial samples\n",
    "                        y0=E_init.ravel())\n",
    "\n",
    "        gpr.fit(r.x_iters, r.func_vals)\n",
    "\n",
    "        optimal_energy[0].append(r.x[0])\n",
    "        optimal_energy[1].append(r.fun)\n",
    "        optimal_energy[2].append(Z[z_index])\n",
    "        \n",
    "        #The first row stores the value of beta\n",
    "        #The second row stores the value of the accuracy \n",
    "        #The third row stores the value of alpha\n",
    "\n",
    "        # Plot the fitted model and the noisy samples\n",
    "        if plot_graph == 1:\n",
    "            X = np.linspace(bounds[:, 0], bounds[:, 1], 1000).reshape(-1, 1) #beta values for plotting\n",
    "            plt.title(\"alpha = {}\".format(Z[z_index]))\n",
    "            plt.xlabel(\"beta\")\n",
    "            plt.ylabel(\"Energy\")\n",
    "            plot_approximation(gpr, X, r.x_iters, r.func_vals, show_legend=True)\n",
    "            plt.show()\n",
    "\n",
    "    end = time.time()\n",
    "    print(end-start)\n",
    "    \n",
    "    answers = [optimal_energy, r, end-start, n_calls, beta_min, beta_max]\n",
    "    \n",
    "    return answers"
   ]
  },
  {
   "cell_type": "code",
   "execution_count": 351,
   "id": "958ca44b",
   "metadata": {},
   "outputs": [
    {
     "name": "stdout",
     "output_type": "stream",
     "text": [
      "density is  49.19191919191919\n"
     ]
    }
   ],
   "source": [
    "filename = \"C:\\\\Users\\\\adhru\\\\graphgen\\\\WK100_9.rud\"\n",
    "weights, N, Z, E_init, Tmax, noise = assign_weights(filename, density=50)"
   ]
  },
  {
   "cell_type": "code",
   "execution_count": 355,
   "id": "bc4f4715",
   "metadata": {},
   "outputs": [],
   "source": [
    "J = coupling_matrix(N, weights)\n",
    "N1 = 150\n",
    "J1 = np.zeros((N1,N1))\n",
    "J1[0:N, 0:N] = J"
   ]
  },
  {
   "cell_type": "code",
   "execution_count": 364,
   "id": "6a384127",
   "metadata": {},
   "outputs": [
    {
     "data": {
      "image/png": "[encoded data removed]",
      "text/plain": [
       "<Figure size 432x288 with 1 Axes>"
      ]
     },
     "metadata": {
      "needs_background": "light"
     },
     "output_type": "display_data"
    },
    {
     "name": "stdout",
     "output_type": "stream",
     "text": [
      "19.78036403656006\n"
     ]
    }
   ],
   "source": [
    "beta_max = 9*N*(1-Z[9])/(abs(sum(sum(J)/2)))\n",
    "#beta_max = 1\n",
    "answer = bay_opt(Z=Z, alpha=9, optimal_energy=[[], [], []], N=N, \n",
    "                    Tmax=Tmax*2, E_init=E_init, beta_max=beta_max,\n",
    "                    noise=noise, num=15)"
   ]
  },
  {
   "cell_type": "code",
   "execution_count": 365,
   "id": "f896261b",
   "metadata": {},
   "outputs": [
    {
     "data": {
      "text/plain": [
       "[[0.02585838597511744], [-371.0], [0.9]]"
      ]
     },
     "execution_count": 365,
     "metadata": {},
     "output_type": "execute_result"
    }
   ],
   "source": [
    "optimal_energy = answer[0]\n",
    "optimal_energy"
   ]
  },
  {
   "cell_type": "code",
   "execution_count": 366,
   "id": "4d9c9986",
   "metadata": {},
   "outputs": [
    {
     "data": {
      "text/plain": [
       "-1403.0"
      ]
     },
     "execution_count": 366,
     "metadata": {},
     "output_type": "execute_result"
    }
   ],
   "source": [
    "0.5*(sum(sum(J)/2) + optimal_energy[1][0])"
   ]
  },
  {
   "cell_type": "code",
   "execution_count": 368,
   "id": "6a797f89",
   "metadata": {},
   "outputs": [
    {
     "data": {
      "text/plain": [
       "-0.4919191919191919"
      ]
     },
     "execution_count": 368,
     "metadata": {},
     "output_type": "execute_result"
    }
   ],
   "source": [
    "(sum(sum(J))/2)/(N*(N-1)/2)"
   ]
  },
  {
   "cell_type": "code",
   "execution_count": 369,
   "id": "9070a5c3",
   "metadata": {},
   "outputs": [
    {
     "data": {
      "text/plain": [
       "<matplotlib.collections.PathCollection at 0x23f30beac10>"
      ]
     },
     "execution_count": 369,
     "metadata": {},
     "output_type": "execute_result"
    },
    {
     "data": {
      "image/png": "[encoded data removed]",
      "text/plain": [
       "<Figure size 432x288 with 1 Axes>"
      ]
     },
     "metadata": {
      "needs_background": "light"
     },
     "output_type": "display_data"
    }
   ],
   "source": [
    "final_spins = (voltage(optimal_energy[2][0], optimal_energy[0][0],\n",
    "                       N, 100))\n",
    "plt.scatter(np.linspace(1, N, N), (final_spins[:, -1]))"
   ]
  },
  {
   "cell_type": "code",
   "execution_count": 371,
   "id": "9441fb1e",
   "metadata": {},
   "outputs": [
    {
     "data": {
      "text/plain": [
       "[<matplotlib.lines.Line2D at 0x23f30c79ca0>]"
      ]
     },
     "execution_count": 371,
     "metadata": {},
     "output_type": "execute_result"
    },
    {
     "data": {
      "image/png": "[encoded data removed]",
      "text/plain": [
       "<Figure size 432x288 with 1 Axes>"
      ]
     },
     "metadata": {
      "needs_background": "light"
     },
     "output_type": "display_data"
    }
   ],
   "source": [
    "E1 = energy(250, N, 0.9, optimal_energy[0][0], 1)\n",
    "plt.plot(E1)"
   ]
  },
  {
   "cell_type": "code",
   "execution_count": 314,
   "id": "53eaff09",
   "metadata": {},
   "outputs": [
    {
     "name": "stdout",
     "output_type": "stream",
     "text": [
      "array([[ 0., -1.,  0., ..., -1.,  0., -1.],\n",
      "       [-1.,  0.,  0., ..., -1.,  0., -1.],\n",
      "       [ 0.,  0.,  0., ..., -1.,  0., -1.],\n",
      "       ...,\n",
      "       [-1., -1., -1., ...,  0.,  0., -1.],\n",
      "       [ 0.,  0.,  0., ...,  0.,  0., -1.],\n",
      "       [-1., -1., -1., ..., -1., -1.,  0.]])\n"
     ]
    }
   ],
   "source": [
    "N1 = 100\n",
    "global J1\n",
    "J1 = np.zeros((N1, N1))\n",
    "for i in range(N1):\n",
    "    for j in range(i+1, N1):\n",
    "        if (i*N1+j)%2 == 1:\n",
    "            J1[i, j] = -1\n",
    "\n",
    "J1 = J1 + np.transpose(J1)\n",
    "pprint.pprint(J1)\n"
   ]
  },
  {
   "cell_type": "code",
   "execution_count": 270,
   "id": "ccb0ba88",
   "metadata": {},
   "outputs": [
    {
     "ename": "IndexError",
     "evalue": "list index out of range",
     "output_type": "error",
     "traceback": [
      "\u001b[1;31m---------------------------------------------------------------------------\u001b[0m",
      "\u001b[1;31mIndexError\u001b[0m                                Traceback (most recent call last)",
      "\u001b[1;32mc:\\Users\\adhru\\TIM\\Untitled.ipynb Cell 13\u001b[0m in \u001b[0;36m<cell line: 6>\u001b[1;34m()\u001b[0m\n\u001b[0;32m      <a href='vscode-notebook-cell:/c%3A/Users/adhru/TIM/Untitled.ipynb#X44sZmlsZQ%3D%3D?line=2'>3</a>\u001b[0m g \u001b[39m=\u001b[39m np\u001b[39m.\u001b[39mrandom\u001b[39m.\u001b[39mnormal(\u001b[39m0\u001b[39m, \u001b[39m0.01\u001b[39m, size\u001b[39m=\u001b[39m(N1, Tmax)) \u001b[39m#gaussian noisex = voltage(alpha, beta, N1, Tmax, x, f, g, J1)\u001b[39;00m\n\u001b[0;32m      <a href='vscode-notebook-cell:/c%3A/Users/adhru/TIM/Untitled.ipynb#X44sZmlsZQ%3D%3D?line=3'>4</a>\u001b[0m E \u001b[39m=\u001b[39m np\u001b[39m.\u001b[39mzeros(Tmax)\n\u001b[1;32m----> <a href='vscode-notebook-cell:/c%3A/Users/adhru/TIM/Untitled.ipynb#X44sZmlsZQ%3D%3D?line=5'>6</a>\u001b[0m x \u001b[39m=\u001b[39m voltage(\u001b[39m0.9\u001b[39;49m, \u001b[39m0.05\u001b[39;49m, N1, Tmax)\n\u001b[0;32m      <a href='vscode-notebook-cell:/c%3A/Users/adhru/TIM/Untitled.ipynb#X44sZmlsZQ%3D%3D?line=7'>8</a>\u001b[0m \u001b[39mfor\u001b[39;00m k \u001b[39min\u001b[39;00m \u001b[39mrange\u001b[39m(Tmax):\n\u001b[0;32m      <a href='vscode-notebook-cell:/c%3A/Users/adhru/TIM/Untitled.ipynb#X44sZmlsZQ%3D%3D?line=8'>9</a>\u001b[0m     \u001b[39mfor\u001b[39;00m i \u001b[39min\u001b[39;00m \u001b[39mrange\u001b[39m(N1):\n",
      "\u001b[1;32mc:\\Users\\adhru\\TIM\\Untitled.ipynb Cell 13\u001b[0m in \u001b[0;36mvoltage\u001b[1;34m(alpha, beta, N, Tmax, plot)\u001b[0m\n\u001b[0;32m     <a href='vscode-notebook-cell:/c%3A/Users/adhru/TIM/Untitled.ipynb#X44sZmlsZQ%3D%3D?line=15'>16</a>\u001b[0m f \u001b[39m=\u001b[39m np\u001b[39m.\u001b[39mzeros((N, Tmax))   \u001b[39m#the function f\u001b[39;00m\n\u001b[0;32m     <a href='vscode-notebook-cell:/c%3A/Users/adhru/TIM/Untitled.ipynb#X44sZmlsZQ%3D%3D?line=16'>17</a>\u001b[0m g \u001b[39m=\u001b[39m np\u001b[39m.\u001b[39mrandom\u001b[39m.\u001b[39mnormal(\u001b[39m0\u001b[39m, \u001b[39m0.01\u001b[39m, size\u001b[39m=\u001b[39m(N, Tmax)) \u001b[39m#gaussian noise\u001b[39;00m\n\u001b[1;32m---> <a href='vscode-notebook-cell:/c%3A/Users/adhru/TIM/Untitled.ipynb#X44sZmlsZQ%3D%3D?line=17'>18</a>\u001b[0m J \u001b[39m=\u001b[39m coupling_matrix(N, weights)\n\u001b[0;32m     <a href='vscode-notebook-cell:/c%3A/Users/adhru/TIM/Untitled.ipynb#X44sZmlsZQ%3D%3D?line=19'>20</a>\u001b[0m \u001b[39mfor\u001b[39;00m k \u001b[39min\u001b[39;00m \u001b[39mrange\u001b[39m(Tmax\u001b[39m-\u001b[39m\u001b[39m1\u001b[39m):\n\u001b[0;32m     <a href='vscode-notebook-cell:/c%3A/Users/adhru/TIM/Untitled.ipynb#X44sZmlsZQ%3D%3D?line=20'>21</a>\u001b[0m     \u001b[39mfor\u001b[39;00m n \u001b[39min\u001b[39;00m \u001b[39mrange\u001b[39m(N):\n",
      "\u001b[1;32mc:\\Users\\adhru\\TIM\\Untitled.ipynb Cell 13\u001b[0m in \u001b[0;36mcoupling_matrix\u001b[1;34m(N, weights)\u001b[0m\n\u001b[0;32m      <a href='vscode-notebook-cell:/c%3A/Users/adhru/TIM/Untitled.ipynb#X44sZmlsZQ%3D%3D?line=3'>4</a>\u001b[0m \u001b[39mfor\u001b[39;00m i \u001b[39min\u001b[39;00m \u001b[39mrange\u001b[39m(N\u001b[39m-\u001b[39m\u001b[39m1\u001b[39m):\n\u001b[0;32m      <a href='vscode-notebook-cell:/c%3A/Users/adhru/TIM/Untitled.ipynb#X44sZmlsZQ%3D%3D?line=4'>5</a>\u001b[0m     \u001b[39mfor\u001b[39;00m j \u001b[39min\u001b[39;00m \u001b[39mrange\u001b[39m(N\u001b[39m-\u001b[39m\u001b[39m1\u001b[39m, i, \u001b[39m-\u001b[39m\u001b[39m1\u001b[39m):\n\u001b[1;32m----> <a href='vscode-notebook-cell:/c%3A/Users/adhru/TIM/Untitled.ipynb#X44sZmlsZQ%3D%3D?line=5'>6</a>\u001b[0m         J[i,j] \u001b[39m=\u001b[39m weights[k]\n\u001b[0;32m      <a href='vscode-notebook-cell:/c%3A/Users/adhru/TIM/Untitled.ipynb#X44sZmlsZQ%3D%3D?line=6'>7</a>\u001b[0m         k \u001b[39m=\u001b[39m k \u001b[39m+\u001b[39m \u001b[39m1\u001b[39m\n\u001b[0;32m      <a href='vscode-notebook-cell:/c%3A/Users/adhru/TIM/Untitled.ipynb#X44sZmlsZQ%3D%3D?line=7'>8</a>\u001b[0m J \u001b[39m=\u001b[39m J \u001b[39m+\u001b[39m np\u001b[39m.\u001b[39mtranspose(J)\n",
      "\u001b[1;31mIndexError\u001b[0m: list index out of range"
     ]
    }
   ],
   "source": [
    "x = np.zeros((N1, Tmax))   #the value of the voltages\n",
    "f = np.zeros((N1, Tmax))   #the function f\n",
    "g = np.random.normal(0, 0.01, size=(N1, Tmax)) #gaussian noisex = voltage(alpha, beta, N1, Tmax, x, f, g, J1)\n",
    "E = np.zeros(Tmax)\n",
    "\n",
    "x = voltage(0.9, 0.05, N1, Tmax)\n",
    "\n",
    "for k in range(Tmax):\n",
    "    for i in range(N1):\n",
    "        for j in range(i, N1):\n",
    "            E[k] += -J1[i, j]*np.sign(x[i, k])*np.sign(x[j, k])\n",
    "\n",
    "plt.plot(E)\n"
   ]
  },
  {
   "cell_type": "code",
   "execution_count": 373,
   "id": "af4f2e28",
   "metadata": {},
   "outputs": [
    {
     "data": {
      "text/plain": [
       "-49.125577658717134"
      ]
     },
     "execution_count": 373,
     "metadata": {},
     "output_type": "execute_result"
    },
    {
     "data": {
      "image/png": "[encoded data removed]",
      "text/plain": [
       "<Figure size 432x288 with 1 Axes>"
      ]
     },
     "metadata": {
      "needs_background": "light"
     },
     "output_type": "display_data"
    }
   ],
   "source": [
    "J = coupling_matrix(N, weights)\n"
   ]
  }
 ],
 "metadata": {
  "kernelspec": {
   "display_name": "Python 3 (ipykernel)",
   "language": "python",
   "name": "python3"
  },
  "language_info": {
   "codemirror_mode": {
    "name": "ipython",
    "version": 3
   },
   "file_extension": ".py",
   "mimetype": "text/x-python",
   "name": "python",
   "nbconvert_exporter": "python",
   "pygments_lexer": "ipython3",
   "version": "3.9.7"
  }
 },
 "nbformat": 4,
 "nbformat_minor": 5
}
