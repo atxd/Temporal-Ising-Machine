{
 "cells": [
  {
   "cell_type": "code",
   "execution_count": 1,
   "id": "b524442d",
   "metadata": {},
   "outputs": [],
   "source": [
    "import numpy as np\n",
    "import matplotlib.pyplot as plt\n",
    "import time\n",
    "from sklearn.base import clone\n",
    "from skopt import gp_minimize\n",
    "from skopt.learning import GaussianProcessRegressor\n",
    "from skopt.learning.gaussian_process.kernels import ConstantKernel, Matern\n",
    "import glob\n",
    "\n",
    "import warnings\n",
    "warnings.filterwarnings(\"ignore\")"
   ]
  },
  {
   "cell_type": "code",
   "execution_count": 2,
   "id": "365706a6",
   "metadata": {},
   "outputs": [],
   "source": [
    "def coupling_matrix(N, weights, val=False):\n",
    "    if val==True:\n",
    "        return J1\n",
    "    J = np.zeros((N, N))\n",
    "    k = 0\n",
    "    for i in range(N-1):\n",
    "        for j in range(N-1, i, -1):\n",
    "            J[i,j] = weights[k]\n",
    "            k = k + 1\n",
    "    J = J + np.transpose(J)\n",
    "    # ensuring that J is symmetric\n",
    "    \n",
    "    return J\n",
    "\n",
    "def voltage(alpha, beta, N, Tmax, plot=0):  \n",
    "    x = np.zeros((N, Tmax))   #the value of the voltages\n",
    "    f = np.zeros((N, Tmax))   #the function f\n",
    "    g = np.random.normal(0, 0.01, size=(N, Tmax)) #gaussian noise\n",
    "    J = coupling_matrix(N, weights)\n",
    "\n",
    "    for k in range(Tmax-1):\n",
    "        for n in range(N):\n",
    "            sum1 = 0\n",
    "            if beta != 0:\n",
    "                for j in range(N):\n",
    "                    sum1 += J[j, n]*x[j, k]\n",
    "            f[n, k] = alpha*x[n, k] + beta*sum1                              #equation 3.2 in the paper\n",
    "            x[n, k+1] = (np.cos(f[n, k] + g[n, k] - np.pi/4))**2 - 0.5       #equation 3.1 in the paper\n",
    "        if plot==1:\n",
    "            spins = np.sign(x[:, k+1])\n",
    "            plt.imshow(spins.reshape(10,10))\n",
    "            plt.show()\n",
    "    return x\n",
    "\n",
    "def energy(Tmax, N, alpha, beta, array=0):\n",
    "    x = voltage(alpha, beta, N, Tmax)\n",
    "    E = np.zeros(Tmax)\n",
    "    for k in range(Tmax):\n",
    "        for i in range(N):\n",
    "            for j in range(i, N):\n",
    "                E[k] += J[i, j]*np.sign(x[i, k])*np.sign(x[j, k])\n",
    "    if array == 0:\n",
    "        return -E[-1]\n",
    "    if array == 1:\n",
    "        return -E\n",
    "\n",
    "def spins(alpha, beta, N, Tmax):\n",
    "    x = voltage(alpha, beta, N, Tmax)\n",
    "    spins = np.sign(x[:, -1])\n",
    "    return spins\n",
    "\n",
    "def plot_approximation(gpr, X, X_sample, Y_sample, X_next=None, show_legend=False):\n",
    "    mu, std = gpr.predict(X, return_std=True)\n",
    "    plt.fill_between(X.ravel(), \n",
    "                     mu.ravel() + 1.96 * std, \n",
    "                     mu.ravel() - 1.96 * std, \n",
    "                     alpha=0.1) \n",
    "    plt.plot(X, mu, 'b-', lw=1, label='Surrogate function')\n",
    "    plt.plot(X_sample, Y_sample, 'kx', mew=3, label='samples')\n",
    "    if X_next:\n",
    "        plt.axvline(x=X_next, ls='--', c='k', lw=1)\n",
    "    if show_legend:\n",
    "        plt.legend()\n",
    "        \n",
    "def assign_weights(filename, density=50):\n",
    "    global weights\n",
    "    weights = []\n",
    "\n",
    "    with open(filename, 'r') as file:\n",
    "        for line in file:\n",
    "            words = line.split()\n",
    "            if len(words) == 3:\n",
    "                weight = int(words[2])\n",
    "                weights.append(weight)\n",
    "\n",
    "    file.close()\n",
    "\n",
    "    if density != 50:\n",
    "        for i in range(len(weights)):\n",
    "            if np.random.randint(0,100) >= density:\n",
    "                weights[i] = 0\n",
    "            else:\n",
    "                weights[i] = -abs(weights[i])\n",
    "\n",
    "    for i in range(len(weights)):\n",
    "        if weights[i] == 1:\n                     # changing the weights from {-1,1} to {-1,0}\n",
    "            weights[i] = 0\n",
    "\n",
    "    print(\"density is \", abs(100*sum(weights)/len(weights)))\n",
    "\n",
    "    Tmax = 90\n",
    "    E_init = np.zeros(2).reshape(-1, 1)\n",
    "    Z = np.arange(0,3.1,0.1) # alpha values\n",
    "    noise = 0.1\n",
    "\n",
    "    p = [0.5, -0.5, -len(weights)]\n",
    "    roots = np.roots(p)\n",
    "\n",
    "    N = int(np.round(roots[roots>0][0]))\n",
    "    \n",
    "    return weights, N, Z, E_init, Tmax, noise"
   ]
  },
  {
   "cell_type": "code",
   "execution_count": 4,
   "id": "04c4210e",
   "metadata": {
    "scrolled": true
   },
   "outputs": [],
   "source": [
    "def bay_opt(Z, alpha, optimal_energy, N, Tmax, E_init, noise, beta_max, delta=0.2, num=10, plot_graph=1):\n",
    "    start = time.time()\n",
    "    for z_index in range(alpha, alpha+1):\n",
    "        beta_min = N*(1-Z[z_index])/(abs(sum(weights)))\n",
    "        \n",
    "        #beta_max = num*beta_min\n",
    "        #beta_max = (np.pi/(2*delta) - 0.9)/(abs(max(sum(coupling_matrix(N, weights)))))\n",
    "        \n",
    "        bounds = np.array([[beta_min, beta_max]])\n",
    "        #bounds = np.array([[1e-10, 1]])\n",
    "        \n",
    "        #X_init = np.array([[0.1], [0.9]])\n",
    "        X_init = np.array([[beta_min], [beta_max]])\n",
    "        E_init[0] = energy(Tmax, N, Z[z_index], X_init[0])\n",
    "        E_init[1] = energy(Tmax, N, Z[z_index], X_init[1])\n",
    "        \n",
    "        #n_calls = int((9*N*(1-Z[z_index])/(abs(sum(weights))))/0.003) - 2\n",
    "        n_calls = 4\n",
    "        \n",
    "        n52 = ConstantKernel(1.0) * Matern(length_scale=0.1, length_scale_bounds=(1e-150, 10), nu=2.5)\n",
    "        gpr = GaussianProcessRegressor(kernel=n52, alpha=noise**2)\n",
    "\n",
    "        r = gp_minimize(lambda x: energy(Tmax, N, Z[z_index], np.array(x)), \n",
    "                        bounds.tolist(),\n",
    "                        base_estimator=gpr,\n",
    "                        acq_func='EI',      # expected improvement\n",
    "                        xi=0.1,            # exploitation-exploration trade-off\n",
    "                        n_calls=n_calls,         # number of iterations\n",
    "                        n_random_starts=0,  # initial samples are provided\n",
    "                        x0=X_init.tolist(), # initial samples\n",
    "                        y0=E_init.ravel())\n",
    "\n",
    "        gpr.fit(r.x_iters, r.func_vals)\n",
    "\n",
    "        optimal_energy[0].append(r.x[0])\n",
    "        optimal_energy[1].append(r.fun)\n",
    "        optimal_energy[2].append(Z[z_index])\n",
    "        \n",
    "        #The first row stores the value of beta\n",
    "        #The second row stores the value of the accuracy \n",
    "        #The third row stores the value of alpha\n",
    "\n",
    "        # Plot the fitted model and the noisy samples\n",
    "        if plot_graph == 1:\n",
    "            X = np.linspace(bounds[:, 0], bounds[:, 1], 1000).reshape(-1, 1) #beta values for plotting\n",
    "            plt.title(\"alpha = {}\".format(Z[z_index]))\n",
    "            plt.xlabel(\"beta\")\n",
    "            plt.ylabel(\"Energy\")\n",
    "            plot_approximation(gpr, X, r.x_iters, r.func_vals, show_legend=True)\n",
    "            plt.show()\n",
    "\n",
    "    end = time.time()\n",
    "    print(end-start)\n",
    "    \n",
    "    answers = [optimal_energy, r, end-start, n_calls, beta_min, beta_max]\n",
    "    \n",
    "    return answers"
   ]
  },
  {
   "attachments": {},
   "cell_type": "markdown",
   "id": "2c770cf6",
   "metadata": {},
   "source": [
    "Optimal values of $\\alpha$ and $\\beta$ that achieve the ground state configuration."
   ]
  },
  {
   "cell_type": "code",
   "execution_count": 123,
   "id": "cd040786",
   "metadata": {},
   "outputs": [],
   "source": [
    "file_paths = glob.glob(\"D:\\IITG Onedrive\\OneDrive - Indian Institute of Technology Guwahati\\IITG\\Beyond Course\\TIM\\Datasets\\Files\\*.rud\")"
   ]
  },
  {
   "cell_type": "code",
   "execution_count": null,
   "id": "3ec6620d",
   "metadata": {
    "scrolled": true
   },
   "outputs": [],
   "source": [
    "answers = [[], [], [], [], [], []]\n",
    "i = 0\n",
    "\n",
    "for file_name in file_paths:\n",
    "    \n",
    "    weights, N, Z, E_init, Tmax, noise = assign_weights(file_name)\n",
    "\n",
    "    answers[i] = bay_opt(Z, 9, [[], [], []], N, Tmax, E_init, noise)\n",
    "\n",
    "    optimal_energy = answers[i][0]\n",
    "    beta_g = optimal_energy[0][0]\n",
    "    alpha_g = optimal_energy[2][0]\n",
    "\n",
    "    print(\"N = \", N, \"Time taken = \", answers[i][2])\n",
    "    print(optimal_energy)\n",
    "    \n",
    "    i += 1\n",
    "    #print(\"n_calls = \", answers[3])"
   ]
  },
  {
   "cell_type": "code",
   "execution_count": null,
   "id": "e024427c",
   "metadata": {},
   "outputs": [],
   "source": [
    "C = 0.5*(sum(weights)+optimal_energy[1][0])\n",
    "print(C)"
   ]
  },
  {
   "cell_type": "code",
   "execution_count": 5,
   "id": "57ced953",
   "metadata": {},
   "outputs": [
    {
     "name": "stdout",
     "output_type": "stream",
     "text": [
      "density is  -100.0\n",
      "time taken for this =  0.05201244354248047 s\n"
     ]
    }
   ],
   "source": [
    "start = time.time()\n",
    "filename = \"C:\\\\Users\\\\adhru\\\\graphgen\\\\WK5_2.rud\"\n",
    "weights, N, Z, E_init, Tmax, noise = assign_weights(filename, density=100)\n",
    "end = time.time()\n",
    "print(\"time taken for this = \", end-start, \"s\")"
   ]
  },
  {
   "cell_type": "code",
   "execution_count": 7,
   "id": "034d51e5",
   "metadata": {},
   "outputs": [],
   "source": [
    "J = coupling_matrix(N, weights)"
   ]
  },
  {
   "cell_type": "code",
   "execution_count": 33,
   "id": "a1217e2a",
   "metadata": {},
   "outputs": [],
   "source": [
    "N1 = 8\n",
    "J1 = np.zeros((8,8))\n",
    "J1[0:5, 0:5] = J"
   ]
  },
  {
   "cell_type": "code",
   "execution_count": 37,
   "id": "a71db9a7",
   "metadata": {},
   "outputs": [],
   "source": [
    "x = np.zeros((N1, Tmax))   #the value of the voltages\n",
    "f = np.zeros((N1, Tmax))   #the function f\n",
    "g = np.random.normal(0, 0.01, size=(N1, Tmax)) #gaussian noisex = voltage(alpha, beta, N1, Tmax, x, f, g, J1)\n",
    "E = np.zeros(Tmax)\n",
    "\n",
    "x = voltage(0.9, 0.2, N1, Tmax, x, f, g, J1)\n",
    "\n",
    "for k in range(Tmax):\n",
    "    for i in range(N1):\n",
    "        for j in range(i, N1):\n",
    "            E[k] += -J1[i, j]*np.sign(x[i, k])*np.sign(x[j, k])"
   ]
  },
  {
   "cell_type": "code",
   "execution_count": 38,
   "id": "8ebed518",
   "metadata": {},
   "outputs": [
    {
     "data": {
      "text/plain": [
       "-2.0"
      ]
     },
     "execution_count": 38,
     "metadata": {},
     "output_type": "execute_result"
    },
    {
     "data": {
      "image/png": "[encoded data removed]",
      "text/plain": [
       "<Figure size 432x288 with 1 Axes>"
      ]
     },
     "metadata": {
      "needs_background": "light"
     },
     "output_type": "display_data"
    }
   ],
   "source": [
    "plt.plot(E)\n",
    "E[-1]"
   ]
  },
  {
   "cell_type": "code",
   "execution_count": 39,
   "id": "b9183d7a",
   "metadata": {},
   "outputs": [
    {
     "data": {
      "text/plain": [
       "<matplotlib.collections.PathCollection at 0x1bc08676fd0>"
      ]
     },
     "execution_count": 39,
     "metadata": {},
     "output_type": "execute_result"
    },
    {
     "data": {
      "image/png": "[encoded data removed]",
      "text/plain": [
       "<Figure size 432x288 with 1 Axes>"
      ]
     },
     "metadata": {
      "needs_background": "light"
     },
     "output_type": "display_data"
    }
   ],
   "source": [
    "plt.scatter(np.linspace(0,N1,N1), np.sign(x[:,-1]))"
   ]
  },
  {
   "cell_type": "code",
   "execution_count": 7,
   "id": "7167758e",
   "metadata": {},
   "outputs": [
    {
     "data": {
      "text/plain": [
       "0.4999999999999999"
      ]
     },
     "execution_count": 7,
     "metadata": {},
     "output_type": "execute_result"
    }
   ],
   "source": [
    "10*N*(1-Z[9])/(abs(sum(weights)))"
   ]
  },
  {
   "cell_type": "code",
   "execution_count": 8,
   "id": "09905621",
   "metadata": {},
   "outputs": [
    {
     "data": {
      "text/plain": [
       "2.1884954084936203"
      ]
     },
     "execution_count": 8,
     "metadata": {},
     "output_type": "execute_result"
    }
   ],
   "source": [
    "J = coupling_matrix(N, weights)\n",
    "beta_values = []\n",
    "for i in range(N):\n",
    "    W = sum(J[i,:])\n",
    "    beta_values.append((-np.pi/2 - Z[9]*0.2)/(W*0.2))\n",
    "\n",
    "beta_max = max(beta_values)\n",
    "beta_max"
   ]
  },
  {
   "cell_type": "code",
   "execution_count": 9,
   "id": "442f261b",
   "metadata": {},
   "outputs": [
    {
     "data": {
      "image/png": "[encoded data removed]",
      "text/plain": [
       "<Figure size 432x288 with 1 Axes>"
      ]
     },
     "metadata": {
      "needs_background": "light"
     },
     "output_type": "display_data"
    },
    {
     "name": "stdout",
     "output_type": "stream",
     "text": [
      "1.2819252014160156\n"
     ]
    }
   ],
   "source": [
    "answers_1 = bay_opt(Z=Z, alpha=9, optimal_energy=[[], [], []], N=N, \n",
    "                    Tmax=Tmax, E_init=E_init, beta_max=10*N*(1-Z[9])/(abs(sum(weights))),\n",
    "                    noise=noise, num=9)"
   ]
  },
  {
   "cell_type": "code",
   "execution_count": 15,
   "id": "465de4d6",
   "metadata": {},
   "outputs": [
    {
     "data": {
      "text/plain": [
       "[[0.08333333333333331], [-2.0], [0.9]]"
      ]
     },
     "execution_count": 15,
     "metadata": {},
     "output_type": "execute_result"
    }
   ],
   "source": [
    "answers_1[0]"
   ]
  },
  {
   "cell_type": "code",
   "execution_count": 16,
   "id": "2f3605cc",
   "metadata": {},
   "outputs": [
    {
     "data": {
      "text/plain": [
       "-4.0"
      ]
     },
     "execution_count": 16,
     "metadata": {},
     "output_type": "execute_result"
    }
   ],
   "source": [
    "0.5*(answers_1[0][1][0]+sum(weights))"
   ]
  },
  {
   "cell_type": "code",
   "execution_count": 18,
   "id": "e4a51f1b",
   "metadata": {},
   "outputs": [],
   "source": [
    "alpha_g = answers_1[0][2][0]\n",
    "beta_g = answers_1[0][0][0]"
   ]
  },
  {
   "cell_type": "code",
   "execution_count": 20,
   "id": "ed392989",
   "metadata": {},
   "outputs": [
    {
     "name": "stdout",
     "output_type": "stream",
     "text": [
      "alpha=0.9, beta=0.08333333333333331\n"
     ]
    },
    {
     "data": {
      "image/png": "[encoded data removed]",
      "text/plain": [
       "<Figure size 432x288 with 1 Axes>"
      ]
     },
     "metadata": {
      "needs_background": "light"
     },
     "output_type": "display_data"
    }
   ],
   "source": [
    "y = energy(250, N, alpha_g, beta_g, 1)\n",
    "plt.title(\"Convergence of energy. N = {}, Density = {}\".format(N, 50))\n",
    "plt.plot(y)\n",
    "plt.ylabel(\"Energy\")\n",
    "plt.xlabel(\"Number of iterations\")\n",
    "print(\"alpha={}, beta={}\".format(alpha_g, beta_g))"
   ]
  },
  {
   "cell_type": "code",
   "execution_count": 49,
   "id": "1c278b11",
   "metadata": {},
   "outputs": [
    {
     "name": "stdout",
     "output_type": "stream",
     "text": [
      "-1421.0\n",
      "-1431.0\n"
     ]
    },
    {
     "data": {
      "text/plain": [
       "-363.0"
      ]
     },
     "execution_count": 49,
     "metadata": {},
     "output_type": "execute_result"
    }
   ],
   "source": [
    "C = 0.5*(sum(weights)+optimal_energy[1][0])\n",
    "print(C)\n",
    "C = 0.5*(y[-1]+sum(weights))\n",
    "print(C)\n",
    "y[-100]"
   ]
  },
  {
   "cell_type": "code",
   "execution_count": null,
   "id": "8b545130",
   "metadata": {},
   "outputs": [],
   "source": []
  },
  {
   "cell_type": "code",
   "execution_count": 425,
   "id": "2d923c9f",
   "metadata": {},
   "outputs": [
    {
     "name": "stdout",
     "output_type": "stream",
     "text": [
      "Time: 187.03681445121765s\n"
     ]
    }
   ],
   "source": [
    "values = []\n",
    "\n",
    "start = time.time()\n",
    "for i in range(9,10):\n",
    "    k = 0\n",
    "    beta_min = N*(1-Z[z_index])/(abs(sum(weights)))\n",
    "    beta_max = 20*beta_min\n",
    "    for j in np.linspace(beta_min,beta_max,4):\n",
    "        values.append(energy(Tmax, N, i/10, j, weights))\n",
    "        k += 1\n",
    "end = time.time()\n",
    "print(\"Time: {}s\".format(end-start))"
   ]
  },
  {
   "cell_type": "code",
   "execution_count": 409,
   "id": "a577a0fd",
   "metadata": {},
   "outputs": [
    {
     "data": {
      "text/plain": [
       "[<matplotlib.lines.Line2D at 0x281d24cc730>]"
      ]
     },
     "execution_count": 409,
     "metadata": {},
     "output_type": "execute_result"
    },
    {
     "data": {
      "image/png": "[encoded data removed]",
      "text/plain": [
       "<Figure size 432x288 with 1 Axes>"
      ]
     },
     "metadata": {
      "needs_background": "light"
     },
     "output_type": "display_data"
    }
   ],
   "source": [
    "plt.plot(values)"
   ]
  },
  {
   "cell_type": "code",
   "execution_count": 418,
   "id": "efae6a86",
   "metadata": {},
   "outputs": [
    {
     "data": {
      "text/plain": [
       "-2214.0"
      ]
     },
     "execution_count": 418,
     "metadata": {},
     "output_type": "execute_result"
    }
   ],
   "source": [
    "min(values)"
   ]
  },
  {
   "cell_type": "code",
   "execution_count": 248,
   "id": "48e2e001",
   "metadata": {},
   "outputs": [
    {
     "name": "stdout",
     "output_type": "stream",
     "text": [
      "0.0020138958815829216\n",
      "-9931\n",
      "-5461.0\n",
      "50\n",
      "8\n",
      "9\n"
     ]
    }
   ],
   "source": [
    "print(beta_min)\n",
    "\n",
    "print(sum(weights))\n",
    "\n",
    "C = 0.5*(min(values) + sum(weights))\n",
    "print(C)\n",
    "\n",
    "print(density)\n",
    "\n",
    "print(k)\n",
    "print(i)"
   ]
  },
  {
   "cell_type": "code",
   "execution_count": 937,
   "id": "7df61e7b",
   "metadata": {},
   "outputs": [
    {
     "name": "stdout",
     "output_type": "stream",
     "text": [
      "alpha=0.8, beta=-0.09001996007984032\n"
     ]
    },
    {
     "data": {
      "image/png": "[encoded data removed]",
      "text/plain": [
       "<Figure size 432x288 with 1 Axes>"
      ]
     },
     "metadata": {
      "needs_background": "light"
     },
     "output_type": "display_data"
    }
   ],
   "source": [
    "y = energy(250, N, i/10, beta_min + (k)*0.01, 1)\n",
    "plt.title(\"Convergence of energy. N = {}, Density = {}\".format(N, density))\n",
    "plt.plot(y)\n",
    "plt.ylabel(\"Energy\")\n",
    "plt.xlabel(\"Number of iterations\")\n",
    "print(\"alpha={}, beta={}\".format(i/10, beta_min + (-2)*0.05))"
   ]
  },
  {
   "cell_type": "code",
   "execution_count": 938,
   "id": "5b98d90c",
   "metadata": {},
   "outputs": [
    {
     "data": {
      "text/plain": [
       "-620.0"
      ]
     },
     "execution_count": 938,
     "metadata": {},
     "output_type": "execute_result"
    }
   ],
   "source": [
    "y[-1]"
   ]
  },
  {
   "cell_type": "code",
   "execution_count": 939,
   "id": "ffed3853",
   "metadata": {},
   "outputs": [
    {
     "data": {
      "text/plain": [
       "-1312.0"
      ]
     },
     "execution_count": 939,
     "metadata": {},
     "output_type": "execute_result"
    }
   ],
   "source": [
    "C = 0.5*(y[-1]+sum(weights))\n",
    "C"
   ]
  },
  {
   "cell_type": "code",
   "execution_count": 696,
   "id": "c0fb20d7",
   "metadata": {},
   "outputs": [
    {
     "data": {
      "text/plain": [
       "-64.0"
      ]
     },
     "execution_count": 696,
     "metadata": {},
     "output_type": "execute_result"
    }
   ],
   "source": [
    "energy(300, N, i/10, beta_min + (-1)*0.05)"
   ]
  },
  {
   "cell_type": "code",
   "execution_count": null,
   "id": "675530cd",
   "metadata": {},
   "outputs": [],
   "source": []
  },
  {
   "cell_type": "code",
   "execution_count": 107,
   "id": "cea2d8b3",
   "metadata": {},
   "outputs": [],
   "source": [
    "x, f, g, J = definitions(100, Tmax)\n",
    "x = voltage(0.9, 0.04, 100, Tmax, x, f, g, J)"
   ]
  },
  {
   "cell_type": "code",
   "execution_count": 111,
   "id": "15532831",
   "metadata": {},
   "outputs": [
    {
     "data": {
      "text/plain": [
       "<matplotlib.collections.PathCollection at 0x240611862e0>"
      ]
     },
     "execution_count": 111,
     "metadata": {},
     "output_type": "execute_result"
    },
    {
     "data": {
      "image/png": "[encoded data removed]",
      "text/plain": [
       "<Figure size 432x288 with 1 Axes>"
      ]
     },
     "metadata": {
      "needs_background": "light"
     },
     "output_type": "display_data"
    }
   ],
   "source": [
    "plt.scatter(np.linspace(1,100,100), abs(x[:,-1]))"
   ]
  },
  {
   "cell_type": "code",
   "execution_count": 124,
   "id": "764345a2",
   "metadata": {},
   "outputs": [
    {
     "data": {
      "text/plain": [
       "-38.0"
      ]
     },
     "execution_count": 124,
     "metadata": {},
     "output_type": "execute_result"
    }
   ],
   "source": [
    "max(sum(J))"
   ]
  },
  {
   "cell_type": "code",
   "execution_count": null,
   "id": "f5ebd00a",
   "metadata": {},
   "outputs": [],
   "source": []
  }
 ],
 "metadata": {
  "kernelspec": {
   "display_name": "Python 3 (ipykernel)",
   "language": "python",
   "name": "python3"
  },
  "language_info": {
   "codemirror_mode": {
    "name": "ipython",
    "version": 3
   },
   "file_extension": ".py",
   "mimetype": "text/x-python",
   "name": "python",
   "nbconvert_exporter": "python",
   "pygments_lexer": "ipython3",
   "version": "3.9.7"
  }
 },
 "nbformat": 4,
 "nbformat_minor": 5
}
