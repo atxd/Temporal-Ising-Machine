{
 "cells": [
  {
   "cell_type": "code",
   "execution_count": 1,
   "id": "76e9c61f",
   "metadata": {},
   "outputs": [],
   "source": [
    "import numpy as np\n",
    "import matplotlib.pyplot as plt\n",
    "import time\n",
    "#from sklearn.gaussian_process import GaussianProcessRegressor\n",
    "#from sklearn.gaussian_process.kernels import ConstantKernel, Matern\n",
    "from sklearn.base import clone\n",
    "from skopt import gp_minimize\n",
    "from skopt.learning import GaussianProcessRegressor\n",
    "from skopt.learning.gaussian_process.kernels import ConstantKernel, Matern"
   ]
  },
  {
   "cell_type": "code",
   "execution_count": 7,
   "id": "1fe0a270",
   "metadata": {},
   "outputs": [],
   "source": [
    "def coupling_matrix(N, weights, h=0):\n",
    "    J = np.zeros((N, N))\n",
    "    k = 0\n",
    "    for i in range(N-1):\n",
    "        #J[i, i] = h/2\n",
    "        #J[i,i+1] = -1\n",
    "        for j in range(N-1, i, -1):\n",
    "            J[i,j] = weights[k]\n",
    "            k = k + 1\n",
    "    J = J + np.transpose(J)\n",
    "    \n",
    "    # ensuring that J is symmetric\n",
    "    \n",
    "    return J"
   ]
  },
  {
   "cell_type": "code",
   "execution_count": 118,
   "id": "0d990995",
   "metadata": {},
   "outputs": [],
   "source": [
    "def definitions(N, Tmax):  \n",
    "    # N is the total number of spins\n",
    "    # Tmax is the total number of evolutions\n",
    "\n",
    "    x = np.zeros((N, Tmax))   #the value of the voltages\n",
    "    f = np.zeros((N, Tmax))   #the function f\n",
    "    g = np.random.normal(0, 0.01, size=(N, Tmax)) #gaussian noise\n",
    "\n",
    "    # all the above three arrays have been defined such that \n",
    "    # the second dimension corresponds to different number of evolutions\n",
    "    # the first dimension includes different spins \n",
    "\n",
    "    J = coupling_matrix(N, weights)\n",
    "\n",
    "    return x, f, g, J\n",
    "\n",
    "def voltage(alpha, beta, N, Tmax, x, f, g, J, plot=0):  \n",
    "    for k in range(Tmax-1):\n",
    "        for n in range(N):\n",
    "            sum1 = 0\n",
    "            if beta != 0:\n",
    "                for j in range(N):\n",
    "                    sum1 += J[j, n]*x[j, k]\n",
    "            f[n, k] = alpha*x[n, k] + beta*sum1                              #equation 3.2 in the paper with beta=0\n",
    "            x[n, k+1] = (np.cos(f[n, k] + g[n, k] - np.pi/4))**2 - 0.5       #equation 3.1 in the paper\n",
    "        if plot==1:\n",
    "            spins = np.sign(x[:, k+1])\n",
    "            plt.imshow(spins.reshape(10,10))\n",
    "            plt.show()\n",
    "    return x"
   ]
  },
  {
   "cell_type": "code",
   "execution_count": 9,
   "id": "7450e71b",
   "metadata": {},
   "outputs": [],
   "source": [
    "def fun(N, alpha, beta):\n",
    "    Tmax = 50\n",
    "    flag = 0\n",
    "    y = np.zeros(1)\n",
    "    \n",
    "    for k in range(5):\n",
    "        x, f, g, J = definitions(N, Tmax)\n",
    "        x = voltage(alpha, beta, N, Tmax, x, f, g, J)\n",
    "        if x[0,-1] > 0:\n",
    "            flag = 1\n",
    "        \n",
    "        for i in range(1,N,1):\n",
    "            if J[i-1, i] < 0:\n",
    "                if x[i, -1] > 0:\n",
    "                    if flag == 1:\n",
    "                        y[0] += 1\n",
    "                    flag = 1\n",
    "                else:\n",
    "                    if flag == -1:\n",
    "                        y[0] += 1\n",
    "                    flag = -1\n",
    "            if J[i-1, i] > 0:\n",
    "                if x[i, -1] > 0:\n",
    "                    if flag == -1:\n",
    "                        y[0] += 1\n",
    "                    flag = 1\n",
    "                else:\n",
    "                    if flag == 1:\n",
    "                        y[0] += 1\n",
    "                    flag = -1\n",
    "    y /= 0.05*N\n",
    "    y = 100 - y\n",
    "    return y\n",
    "\n",
    "def energy(Tmax, N, alpha, beta, array=0):\n",
    "    x, f, g, J = definitions(N, Tmax)\n",
    "    x = voltage(alpha, beta, N, Tmax, x, f, g, J)\n",
    "    E = np.zeros(Tmax)\n",
    "    for k in range(Tmax):\n",
    "        for i in range(N):\n",
    "            for j in range(N):\n",
    "                E[k] += J[i, j]*np.sign(x[i, k])*np.sign(x[j, k])\n",
    "    if array == 0:\n",
    "        return E[-1]\n",
    "    if array == 1:\n",
    "        return E"
   ]
  },
  {
   "cell_type": "code",
   "execution_count": 10,
   "id": "ae899890",
   "metadata": {},
   "outputs": [],
   "source": [
    "def spins(alpha, beta, N, Tmax):\n",
    "    x, f, g, J = definitions(N, Tmax)\n",
    "    x = voltage(alpha, beta, N, Tmax, x, f, g, J)\n",
    "    spins = np.sign(x[:, -1])\n",
    "    return spins"
   ]
  },
  {
   "cell_type": "code",
   "execution_count": 11,
   "id": "844ffbee",
   "metadata": {},
   "outputs": [],
   "source": [
    "def plot_approximation(gpr, X, X_sample, Y_sample, X_next=None, show_legend=False):\n",
    "    mu, std = gpr.predict(X, return_std=True)\n",
    "    plt.fill_between(X.ravel(), \n",
    "                     mu.ravel() + 1.96 * std, \n",
    "                     mu.ravel() - 1.96 * std, \n",
    "                     alpha=0.1) \n",
    "    #plt.plot(X, Y, 'y--', lw=1, label='Objective')\n",
    "    plt.plot(X, mu, 'b-', lw=1, label='Surrogate function')\n",
    "    plt.plot(X_sample, Y_sample, 'kx', mew=3, label='samples')\n",
    "    if X_next:\n",
    "        plt.axvline(x=X_next, ls='--', c='k', lw=1)\n",
    "    if show_legend:\n",
    "        plt.legend()"
   ]
  },
  {
   "cell_type": "code",
   "execution_count": 125,
   "id": "b5ad72b8",
   "metadata": {},
   "outputs": [],
   "source": [
    "noise = 0.2\n",
    "bounds = np.array([[0.2/np.tan(82*np.pi/180), 0.4]])"
   ]
  },
  {
   "cell_type": "code",
   "execution_count": 13,
   "id": "b524442d",
   "metadata": {},
   "outputs": [],
   "source": [
    "import warnings\n",
    "warnings.filterwarnings(\"ignore\")"
   ]
  },
  {
   "cell_type": "markdown",
   "id": "be80c454",
   "metadata": {},
   "source": [
    "Optimal values that give accurate anti-ferromagnetic spins only considering nearest neighbour interactions in a periodic 1 dimensional lattice with connected endpoints."
   ]
  },
  {
   "cell_type": "code",
   "execution_count": null,
   "id": "2e3bb926",
   "metadata": {},
   "outputs": [],
   "source": [
    "X = np.arange(0,2.1,0.1).reshape(-1,1) # beta values\n",
    "Z = np.arange(0,7.1,0.1) # alpha values    \n",
    "Y = np.zeros(21).reshape(-1,1)\n",
    "X_init = np.array([[0.4], [1.8]])\n",
    "Y_init = np.zeros(2).reshape(-1, 1)\n",
    "n_calls = 5\n",
    "N = 100"
   ]
  },
  {
   "cell_type": "code",
   "execution_count": null,
   "id": "ebd695ad",
   "metadata": {
    "scrolled": true
   },
   "outputs": [],
   "source": [
    "#optimal_values = [[[], []],[[], []], [[], []], [[], []], [[], []]] \n",
    "optimal_values = [[], [], []]\n",
    "                            #The first row stores the value of beta\n",
    "                            #The second row stores the value of the accuracy \n",
    "                            #The third row stores the spins itself\n",
    "                            #The third dimension is for different total number of spins\n",
    "\n",
    "start = time.time()\n",
    "for z_index in range(len(Z)):\n",
    "    n52 = ConstantKernel(1.0) * Matern(length_scale=1.5, length_scale_bounds=(1e-150, 10), nu=2.5)\n",
    "    gpr = GaussianProcessRegressor(kernel=n52, alpha=noise**2)\n",
    "    Y_init[0] = fun(N, Z[z_index], X_init[0])\n",
    "    Y_init[1] = fun(N, Z[z_index], X_init[1])\n",
    "    r = gp_minimize(lambda x: -fun(N, Z[z_index], np.array(x))[0], \n",
    "                    bounds.tolist(),\n",
    "                    base_estimator=gpr,\n",
    "                    acq_func='EI',      # expected improvement\n",
    "                    xi=0.5,            # exploitation-exploration trade-off\n",
    "                    n_calls=n_calls,         # number of iterations\n",
    "                    n_random_starts=0,  # initial samples are provided\n",
    "                    x0=X_init.tolist(), # initial samples\n",
    "                    y0=-Y_init.ravel())\n",
    "\n",
    "    # Fit GP model to samples for plotting results\n",
    "    gpr.fit(r.x_iters, -r.func_vals)\n",
    "\n",
    "    # Plot the fitted model and the noisy samples\n",
    "    #plt.title(\"alpha = {}\".format(Z[z_index]))\n",
    "    #plot_approximation(gpr, X, r.x_iters, -r.func_vals, show_legend=True)\n",
    "    #plt.show()\n",
    "    \n",
    "    #Storing the optimal values of beta for a given alpha\n",
    "    optimal_values[0].append(r.x_iters[np.argmax(-r.func_vals)][0])\n",
    "    optimal_values[1].append(np.max(-r.func_vals))\n",
    "    \n",
    "    Tmax = 50\n",
    "    x, f, g, J = definitions(N, Tmax)\n",
    "    x = voltage(Z[z_index], optimal_values[0][-1], N, Tmax, x, f, g, J)\n",
    "    spins = np.sign(x[:, -1])\n",
    "    optimal_values[2].append(spins)\n",
    "    #acc.append(-r.func_vals)\n",
    "    #beta.append(r.x_iters)\n",
    "    \n",
    "end = time.time()\n",
    "print(\"Time = {}s\".format(end-start))"
   ]
  },
  {
   "cell_type": "code",
   "execution_count": null,
   "id": "764fad21",
   "metadata": {},
   "outputs": [],
   "source": [
    "optimal_values[1][4]"
   ]
  }
 ],
 "metadata": {
  "kernelspec": {
   "display_name": "Python 3 (ipykernel)",
   "language": "python",
   "name": "python3"
  },
  "language_info": {
   "codemirror_mode": {
    "name": "ipython",
    "version": 3
   },
   "file_extension": ".py",
   "mimetype": "text/x-python",
   "name": "python",
   "nbconvert_exporter": "python",
   "pygments_lexer": "ipython3",
   "version": "3.9.7"
  }
 },
 "nbformat": 4,
 "nbformat_minor": 5
}
